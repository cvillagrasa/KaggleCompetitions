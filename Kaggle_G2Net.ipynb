{
 "cells": [
  {
   "cell_type": "markdown",
   "id": "0158a8ba-8258-463a-bea0-b9b5657c4af5",
   "metadata": {
    "pycharm": {
     "name": "#%% md\n"
    }
   },
   "source": [
    "# Necessary libraries"
   ]
  },
  {
   "cell_type": "code",
   "execution_count": 1,
   "id": "1c469217-c879-46c7-abc1-c622906fdf22",
   "metadata": {
    "pycharm": {
     "name": "#%%\n"
    }
   },
   "outputs": [],
   "source": [
    "#!kaggle competitions download -c g2net-gravitational-wave-detection"
   ]
  },
  {
   "cell_type": "code",
   "execution_count": 2,
   "id": "9c8146f4-f100-4caf-be4b-862c5799ff8f",
   "metadata": {
    "pycharm": {
     "name": "#%%\n"
    }
   },
   "outputs": [],
   "source": [
    "import numpy as np\n",
    "import pandas as pd\n",
    "import tensorflow as tf\n",
    "import matplotlib.pyplot as plt\n",
    "import pathlib\n",
    "from functools import reduce\n",
    "from sklearn.model_selection import train_test_split\n",
    "from scipy import signal"
   ]
  },
  {
   "cell_type": "code",
   "execution_count": 3,
   "id": "c1d9ae92-6b2c-4cf5-93a7-dbe695300ee3",
   "metadata": {
    "pycharm": {
     "name": "#%%\n"
    }
   },
   "outputs": [],
   "source": [
    "path = pathlib.Path('/home/carlos/Documentos/Kaggle/g2net')"
   ]
  },
  {
   "cell_type": "code",
   "execution_count": 4,
   "id": "6984a991-0716-4f6e-96e6-10225714483f",
   "metadata": {
    "pycharm": {
     "name": "#%%\n"
    }
   },
   "outputs": [],
   "source": [
    "sample_submission = pd.read_csv(path / 'sample_submission.csv')"
   ]
  },
  {
   "cell_type": "markdown",
   "id": "741a8e6e-3866-4c9e-81bf-65f07ed22533",
   "metadata": {
    "pycharm": {
     "name": "#%% md\n"
    }
   },
   "source": [
    "# Reading the dataset "
   ]
  },
  {
   "cell_type": "code",
   "execution_count": 5,
   "id": "c801da27-2109-4afd-a4a4-3dcf834d624b",
   "metadata": {
    "pycharm": {
     "name": "#%%\n"
    }
   },
   "outputs": [],
   "source": [
    "training_labels = pd.read_csv(path / 'training_labels.csv', index_col='id', dtype={'id': str, 'target': np.int16})"
   ]
  },
  {
   "cell_type": "code",
   "execution_count": 6,
   "id": "1dafd9a8-58dd-4424-b923-69d47175f534",
   "metadata": {
    "pycharm": {
     "name": "#%%\n"
    }
   },
   "outputs": [
    {
     "data": {
      "text/html": [
       "<div>\n",
       "<style scoped>\n",
       "    .dataframe tbody tr th:only-of-type {\n",
       "        vertical-align: middle;\n",
       "    }\n",
       "\n",
       "    .dataframe tbody tr th {\n",
       "        vertical-align: top;\n",
       "    }\n",
       "\n",
       "    .dataframe thead th {\n",
       "        text-align: right;\n",
       "    }\n",
       "</style>\n",
       "<table border=\"1\" class=\"dataframe\">\n",
       "  <thead>\n",
       "    <tr style=\"text-align: right;\">\n",
       "      <th></th>\n",
       "      <th>target</th>\n",
       "    </tr>\n",
       "    <tr>\n",
       "      <th>id</th>\n",
       "      <th></th>\n",
       "    </tr>\n",
       "  </thead>\n",
       "  <tbody>\n",
       "    <tr>\n",
       "      <th>00000e74ad</th>\n",
       "      <td>1</td>\n",
       "    </tr>\n",
       "    <tr>\n",
       "      <th>00001f4945</th>\n",
       "      <td>0</td>\n",
       "    </tr>\n",
       "    <tr>\n",
       "      <th>0000661522</th>\n",
       "      <td>0</td>\n",
       "    </tr>\n",
       "    <tr>\n",
       "      <th>00007a006a</th>\n",
       "      <td>0</td>\n",
       "    </tr>\n",
       "    <tr>\n",
       "      <th>0000a38978</th>\n",
       "      <td>1</td>\n",
       "    </tr>\n",
       "  </tbody>\n",
       "</table>\n",
       "</div>"
      ],
      "text/plain": [
       "            target\n",
       "id                \n",
       "00000e74ad       1\n",
       "00001f4945       0\n",
       "0000661522       0\n",
       "00007a006a       0\n",
       "0000a38978       1"
      ]
     },
     "execution_count": 6,
     "metadata": {},
     "output_type": "execute_result"
    }
   ],
   "source": [
    "# Each id corresponds to a numpy array filename under /train\n",
    "training_labels.head()"
   ]
  },
  {
   "cell_type": "code",
   "execution_count": 7,
   "id": "e314bd60-a959-4954-9f48-dd75681a6c76",
   "metadata": {
    "pycharm": {
     "name": "#%%\n"
    }
   },
   "outputs": [
    {
     "data": {
      "text/plain": [
       "(560000, 226000)"
      ]
     },
     "execution_count": 7,
     "metadata": {},
     "output_type": "execute_result"
    }
   ],
   "source": [
    "# List of all filenames under /train and /test\n",
    "training_set = list((path / 'train').rglob('*.*'))\n",
    "valid_set = list((path / 'test').rglob('*.*')) # Kaggle \"test\" set will actually be the validation set on this notebook's scope. A test set will be splitted from the training set.\n",
    "len(training_set), len(valid_set)"
   ]
  },
  {
   "cell_type": "code",
   "execution_count": 8,
   "id": "ed07eef4-ff2f-4c85-b5cc-9cb9b2fb3e55",
   "metadata": {
    "pycharm": {
     "name": "#%%\n"
    }
   },
   "outputs": [
    {
     "data": {
      "text/plain": [
       "[PosixPath('/home/carlos/Documentos/Kaggle/g2net/train/5/5/5/55517ec769.npy'),\n",
       " PosixPath('/home/carlos/Documentos/Kaggle/g2net/train/5/5/5/555114c239.npy'),\n",
       " PosixPath('/home/carlos/Documentos/Kaggle/g2net/train/5/5/5/555e0035d9.npy')]"
      ]
     },
     "execution_count": 8,
     "metadata": {},
     "output_type": "execute_result"
    }
   ],
   "source": [
    "# Numpy arrays are stored under some unknown hierarchy under /train, but its filename always corresponds to an id found in 'training_labels'\n",
    "training_set[:3]"
   ]
  },
  {
   "cell_type": "code",
   "execution_count": 9,
   "id": "10752d2c-5739-4739-a6fc-24612320d912",
   "metadata": {
    "pycharm": {
     "name": "#%%\n"
    }
   },
   "outputs": [],
   "source": [
    "# Creation of a DataFrame with full path and id of numpy arrays, along with its label\n",
    "training_df_complete = pd.DataFrame(training_set, columns=['path'], dtype=object)\n",
    "training_df_complete['id'] = training_df_complete.apply(lambda x: x['path'].name.split('.')[0], axis=1).astype('string')\n",
    "training_df_complete = pd.merge(training_df_complete, training_labels, how='left', on='id')\n",
    "training_df_complete = training_df_complete.set_index('id')"
   ]
  },
  {
   "cell_type": "code",
   "execution_count": 10,
   "id": "ea762dbe-b70d-468c-b8e4-de785b5d9a55",
   "metadata": {
    "pycharm": {
     "name": "#%%\n"
    }
   },
   "outputs": [
    {
     "data": {
      "text/html": [
       "<div>\n",
       "<style scoped>\n",
       "    .dataframe tbody tr th:only-of-type {\n",
       "        vertical-align: middle;\n",
       "    }\n",
       "\n",
       "    .dataframe tbody tr th {\n",
       "        vertical-align: top;\n",
       "    }\n",
       "\n",
       "    .dataframe thead th {\n",
       "        text-align: right;\n",
       "    }\n",
       "</style>\n",
       "<table border=\"1\" class=\"dataframe\">\n",
       "  <thead>\n",
       "    <tr style=\"text-align: right;\">\n",
       "      <th></th>\n",
       "      <th>path</th>\n",
       "      <th>target</th>\n",
       "    </tr>\n",
       "    <tr>\n",
       "      <th>id</th>\n",
       "      <th></th>\n",
       "      <th></th>\n",
       "    </tr>\n",
       "  </thead>\n",
       "  <tbody>\n",
       "    <tr>\n",
       "      <th>55517ec769</th>\n",
       "      <td>/home/carlos/Documentos/Kaggle/g2net/train/5/5...</td>\n",
       "      <td>0</td>\n",
       "    </tr>\n",
       "    <tr>\n",
       "      <th>555114c239</th>\n",
       "      <td>/home/carlos/Documentos/Kaggle/g2net/train/5/5...</td>\n",
       "      <td>0</td>\n",
       "    </tr>\n",
       "    <tr>\n",
       "      <th>555e0035d9</th>\n",
       "      <td>/home/carlos/Documentos/Kaggle/g2net/train/5/5...</td>\n",
       "      <td>0</td>\n",
       "    </tr>\n",
       "    <tr>\n",
       "      <th>555f38703c</th>\n",
       "      <td>/home/carlos/Documentos/Kaggle/g2net/train/5/5...</td>\n",
       "      <td>0</td>\n",
       "    </tr>\n",
       "    <tr>\n",
       "      <th>555ffd84ca</th>\n",
       "      <td>/home/carlos/Documentos/Kaggle/g2net/train/5/5...</td>\n",
       "      <td>0</td>\n",
       "    </tr>\n",
       "    <tr>\n",
       "      <th>555508090c</th>\n",
       "      <td>/home/carlos/Documentos/Kaggle/g2net/train/5/5...</td>\n",
       "      <td>1</td>\n",
       "    </tr>\n",
       "    <tr>\n",
       "      <th>55542ddf23</th>\n",
       "      <td>/home/carlos/Documentos/Kaggle/g2net/train/5/5...</td>\n",
       "      <td>0</td>\n",
       "    </tr>\n",
       "  </tbody>\n",
       "</table>\n",
       "</div>"
      ],
      "text/plain": [
       "                                                         path  target\n",
       "id                                                                   \n",
       "55517ec769  /home/carlos/Documentos/Kaggle/g2net/train/5/5...       0\n",
       "555114c239  /home/carlos/Documentos/Kaggle/g2net/train/5/5...       0\n",
       "555e0035d9  /home/carlos/Documentos/Kaggle/g2net/train/5/5...       0\n",
       "555f38703c  /home/carlos/Documentos/Kaggle/g2net/train/5/5...       0\n",
       "555ffd84ca  /home/carlos/Documentos/Kaggle/g2net/train/5/5...       0\n",
       "555508090c  /home/carlos/Documentos/Kaggle/g2net/train/5/5...       1\n",
       "55542ddf23  /home/carlos/Documentos/Kaggle/g2net/train/5/5...       0"
      ]
     },
     "execution_count": 10,
     "metadata": {},
     "output_type": "execute_result"
    }
   ],
   "source": [
    "training_df_complete.head(7)"
   ]
  },
  {
   "cell_type": "code",
   "execution_count": 11,
   "id": "b28914b1-9d79-4cb9-af66-2adf549d04de",
   "metadata": {
    "pycharm": {
     "name": "#%%\n"
    }
   },
   "outputs": [],
   "source": [
    "# Creation of the test set\n",
    "id_train, id_test, _, _ = train_test_split(training_df_complete.index, training_df_complete['target'], test_size=0.2, random_state=42)"
   ]
  },
  {
   "cell_type": "code",
   "execution_count": 12,
   "id": "1b079f8a-9789-401a-a262-c17d05cb67bf",
   "metadata": {
    "pycharm": {
     "name": "#%%\n"
    }
   },
   "outputs": [],
   "source": [
    "training_df = training_df_complete.loc[id_train]\n",
    "test_df = training_df_complete.loc[id_test]"
   ]
  },
  {
   "cell_type": "code",
   "execution_count": 13,
   "id": "0e21d59f-8641-4fea-b0cb-889145d53383",
   "metadata": {
    "pycharm": {
     "name": "#%%\n"
    }
   },
   "outputs": [
    {
     "data": {
      "text/plain": [
       "((448000, 2), (112000, 2))"
      ]
     },
     "execution_count": 13,
     "metadata": {},
     "output_type": "execute_result"
    }
   ],
   "source": [
    "training_df.shape, test_df.shape"
   ]
  },
  {
   "cell_type": "code",
   "execution_count": 14,
   "id": "f6b58039-3c41-4368-a431-6b1da2fe3e7b",
   "metadata": {
    "pycharm": {
     "name": "#%%\n"
    }
   },
   "outputs": [],
   "source": [
    "# Creation of the validation DataFrame, only with paths and ids\n",
    "valid_df = pd.DataFrame(valid_set, columns=['path'], dtype=object)\n",
    "valid_df['id'] = valid_df.apply(lambda x: x['path'].name.split('.')[0], axis=1).astype('string')"
   ]
  },
  {
   "cell_type": "code",
   "execution_count": 15,
   "id": "e93ae781-7ab0-4129-8da2-be5dc34a6cf6",
   "metadata": {
    "pycharm": {
     "name": "#%%\n"
    }
   },
   "outputs": [
    {
     "data": {
      "text/html": [
       "<div>\n",
       "<style scoped>\n",
       "    .dataframe tbody tr th:only-of-type {\n",
       "        vertical-align: middle;\n",
       "    }\n",
       "\n",
       "    .dataframe tbody tr th {\n",
       "        vertical-align: top;\n",
       "    }\n",
       "\n",
       "    .dataframe thead th {\n",
       "        text-align: right;\n",
       "    }\n",
       "</style>\n",
       "<table border=\"1\" class=\"dataframe\">\n",
       "  <thead>\n",
       "    <tr style=\"text-align: right;\">\n",
       "      <th></th>\n",
       "      <th>path</th>\n",
       "      <th>id</th>\n",
       "    </tr>\n",
       "  </thead>\n",
       "  <tbody>\n",
       "    <tr>\n",
       "      <th>0</th>\n",
       "      <td>/home/carlos/Documentos/Kaggle/g2net/test/5/5/...</td>\n",
       "      <td>555fae21f9</td>\n",
       "    </tr>\n",
       "    <tr>\n",
       "      <th>1</th>\n",
       "      <td>/home/carlos/Documentos/Kaggle/g2net/test/5/5/...</td>\n",
       "      <td>5550b3009c</td>\n",
       "    </tr>\n",
       "    <tr>\n",
       "      <th>2</th>\n",
       "      <td>/home/carlos/Documentos/Kaggle/g2net/test/5/5/...</td>\n",
       "      <td>55554b8e3c</td>\n",
       "    </tr>\n",
       "    <tr>\n",
       "      <th>3</th>\n",
       "      <td>/home/carlos/Documentos/Kaggle/g2net/test/5/5/...</td>\n",
       "      <td>55535b070b</td>\n",
       "    </tr>\n",
       "    <tr>\n",
       "      <th>4</th>\n",
       "      <td>/home/carlos/Documentos/Kaggle/g2net/test/5/5/...</td>\n",
       "      <td>555d90926b</td>\n",
       "    </tr>\n",
       "  </tbody>\n",
       "</table>\n",
       "</div>"
      ],
      "text/plain": [
       "                                                path          id\n",
       "0  /home/carlos/Documentos/Kaggle/g2net/test/5/5/...  555fae21f9\n",
       "1  /home/carlos/Documentos/Kaggle/g2net/test/5/5/...  5550b3009c\n",
       "2  /home/carlos/Documentos/Kaggle/g2net/test/5/5/...  55554b8e3c\n",
       "3  /home/carlos/Documentos/Kaggle/g2net/test/5/5/...  55535b070b\n",
       "4  /home/carlos/Documentos/Kaggle/g2net/test/5/5/...  555d90926b"
      ]
     },
     "execution_count": 15,
     "metadata": {},
     "output_type": "execute_result"
    }
   ],
   "source": [
    "valid_df.head()"
   ]
  },
  {
   "cell_type": "markdown",
   "id": "dbd31ac8-b4b9-4181-bc5f-ad7c93b94cf5",
   "metadata": {
    "pycharm": {
     "name": "#%% md\n"
    }
   },
   "source": [
    "# Quick glance at the data (EDA)"
   ]
  },
  {
   "cell_type": "code",
   "execution_count": 16,
   "id": "e22d532c-099f-4c37-b92e-be27883acecf",
   "metadata": {
    "pycharm": {
     "name": "#%%\n"
    }
   },
   "outputs": [
    {
     "data": {
      "image/png": "[encoded data removed]",
      "text/plain": [
       "<Figure size 432x288 with 1 Axes>"
      ]
     },
     "metadata": {
      "needs_background": "light"
     },
     "output_type": "display_data"
    }
   ],
   "source": [
    "idx = 7\n",
    "arr = np.load(training_df['path'].iloc[idx])\n",
    "t = np.arange(2 * 2048) / 2048 # Signal lasts for 2 seconds and is sampled at 2048 Hz\n",
    "\n",
    "fig, ax = plt.subplots(1, 1)\n",
    "ax.plot(t, arr[0], color='r')\n",
    "ax.plot(t, arr[1], color='g')\n",
    "ax.plot(t, arr[2], color='b')\n",
    "ax.set_xlabel('Time (s)')\n",
    "ax.set_ylabel('Signal')\n",
    "_ = fig.suptitle(f'Existence of gravitational wave: {bool(training_df[\"target\"].iloc[idx])}')"
   ]
  },
  {
   "cell_type": "code",
   "execution_count": 17,
   "id": "a4877ff9-f929-405d-86e3-040d88e06da2",
   "metadata": {
    "pycharm": {
     "name": "#%%\n"
    }
   },
   "outputs": [
    {
     "data": {
      "image/png": "[encoded data removed]",
      "text/plain": [
       "<Figure size 1296x288 with 3 Axes>"
      ]
     },
     "metadata": {
      "needs_background": "light"
     },
     "output_type": "display_data"
    }
   ],
   "source": [
    "magnifier = 10. ** 24\n",
    "fig, axes = plt.subplots(1, 3, figsize=(18, 4))\n",
    "nperseg=650\n",
    "noverlap=640\n",
    "\n",
    "for i in range(3):\n",
    "    curr_arr = np.copy(arr[i]) * magnifier\n",
    "    f, t, Sxx = signal.spectrogram(curr_arr, fs=2048., window=('tukey', 0.25), nperseg=nperseg, noverlap=noverlap, scaling='density', mode='magnitude')\n",
    "    axes[i].pcolormesh(t, f, Sxx, shading='gouraud')\n",
    "    axes[i].set_ylabel('Frequency (Hz)')\n",
    "    _ = axes[i].set_xlabel('Time (s)')"
   ]
  },
  {
   "cell_type": "code",
   "execution_count": 18,
   "id": "c7b3856c-63f0-472c-a437-2fa35feb6897",
   "metadata": {
    "pycharm": {
     "name": "#%%\n"
    }
   },
   "outputs": [
    {
     "data": {
      "text/plain": [
       "(326, 345)"
      ]
     },
     "execution_count": 18,
     "metadata": {},
     "output_type": "execute_result"
    }
   ],
   "source": [
    "spec_shape = Sxx.shape\n",
    "spec_shape"
   ]
  },
  {
   "cell_type": "code",
   "execution_count": 19,
   "id": "a674abcd-f764-4439-b8dd-94f44bc3487b",
   "metadata": {
    "pycharm": {
     "name": "#%%\n"
    }
   },
   "outputs": [],
   "source": [
    "f, t, Sxx = signal.spectrogram(arr, fs=2048., window=('tukey', 0.25), nperseg=nperseg, noverlap=noverlap, scaling='density', axis=-1, mode='magnitude')"
   ]
  },
  {
   "cell_type": "code",
   "execution_count": 20,
   "id": "09fcc168-5500-43be-96e6-b2cbb07f78e4",
   "metadata": {
    "pycharm": {
     "name": "#%%\n"
    }
   },
   "outputs": [
    {
     "data": {
      "text/plain": [
       "dtype('float64')"
      ]
     },
     "execution_count": 20,
     "metadata": {},
     "output_type": "execute_result"
    }
   ],
   "source": [
    "curr_arr.dtype"
   ]
  },
  {
   "cell_type": "code",
   "execution_count": 21,
   "id": "0433e403-803e-4b9c-a825-7430a931d47a",
   "metadata": {
    "pycharm": {
     "name": "#%%\n"
    }
   },
   "outputs": [
    {
     "data": {
      "text/plain": [
       "3.5336264630751954e-21"
      ]
     },
     "execution_count": 21,
     "metadata": {},
     "output_type": "execute_result"
    }
   ],
   "source": [
    "Sxx.max()"
   ]
  },
  {
   "cell_type": "code",
   "execution_count": 22,
   "id": "8c2ad4c9-a96e-4aa5-9a65-34e4fc5fd593",
   "metadata": {
    "pycharm": {
     "name": "#%%\n"
    }
   },
   "outputs": [],
   "source": [
    "# Checking numpy array sizes of all elements (slow)\n",
    "def get_array_sizes(df, path_col='path', load_func=lambda x: np.load(x), chunk_size=10000):\n",
    "    steps = int(np.ceil(df.shape[0] / chunk_size))\n",
    "    excess = steps * chunk_size - df.shape[0]\n",
    "    sizes = []\n",
    "    for step in range(steps):\n",
    "        curr_chunk = chunk_size if step < steps or excess == 0 else excess\n",
    "        curr_start = step * chunk_size\n",
    "        curr_df = df.iloc[curr_start : curr_start + curr_chunk, :]\n",
    "        sizes.extend([load_func(pth).shape for pth in curr_df[path_col]])\n",
    "    return sizes"
   ]
  },
  {
   "cell_type": "code",
   "execution_count": 23,
   "id": "190c459f-dcda-4ba2-b121-74098ab56ff3",
   "metadata": {
    "pycharm": {
     "name": "#%%\n"
    }
   },
   "outputs": [],
   "source": [
    "# %time sizes_train = get_array_sizes(training_df_complete)"
   ]
  },
  {
   "cell_type": "code",
   "execution_count": 24,
   "id": "723c8be6-c2ed-4c13-b807-4c904caf701a",
   "metadata": {
    "pycharm": {
     "name": "#%%\n"
    }
   },
   "outputs": [],
   "source": [
    "# %time sizes_valid = get_array_sizes(valid_df)"
   ]
  },
  {
   "cell_type": "code",
   "execution_count": 25,
   "id": "6a513da0-5fa5-4840-85dd-df6b3095d7bb",
   "metadata": {
    "pycharm": {
     "name": "#%%\n"
    }
   },
   "outputs": [],
   "source": [
    "# All sizes in the training set are unique and equal to (3, 4096) -> 3 signals of 2 sec at 2048 Hz\n",
    "# sizes_train_unique = list(dict.fromkeys(sizes_train))\n",
    "# sizes_train_unique"
   ]
  },
  {
   "cell_type": "code",
   "execution_count": 26,
   "id": "8452bef5-28da-43f7-9f21-f6793255e4d6",
   "metadata": {
    "pycharm": {
     "name": "#%%\n"
    }
   },
   "outputs": [],
   "source": [
    "# Same for the test set\n",
    "# sizes_valid_unique = list(dict.fromkeys(sizes_valid))\n",
    "# sizes_valid_unique"
   ]
  },
  {
   "cell_type": "markdown",
   "id": "5d7f7bd9-6bf1-4f85-8368-4a6944d097f6",
   "metadata": {
    "pycharm": {
     "name": "#%% md\n"
    }
   },
   "source": [
    "# Creating a Dataset"
   ]
  },
  {
   "cell_type": "markdown",
   "id": "4e2edfb7-cdbf-4718-86fe-f1768233955c",
   "metadata": {
    "tags": [],
    "pycharm": {
     "name": "#%% md\n"
    }
   },
   "source": [
    "## Generators"
   ]
  },
  {
   "cell_type": "code",
   "execution_count": 27,
   "id": "b92be9ee-8586-422a-8912-146622214b8f",
   "metadata": {
    "pycharm": {
     "name": "#%%\n"
    }
   },
   "outputs": [],
   "source": [
    "batch_size = 32"
   ]
  },
  {
   "cell_type": "code",
   "execution_count": 28,
   "id": "5a1548d7-2436-4547-a4ed-87d3e1e969a6",
   "metadata": {
    "pycharm": {
     "name": "#%%\n"
    }
   },
   "outputs": [],
   "source": [
    "# def g2net_data_generator(df, batch_size=64, magnifier=10.**20):\n",
    "#     def gen():\n",
    "#         steps = int(np.floor(df.shape[0] / batch_size))\n",
    "#         for step in range(steps):\n",
    "#             curr_df = df.iloc[step * batch_size: (step + 1) * batch_size]\n",
    "#             arrs = [np.load(row[1]).astype(np.float64) for row in curr_df.itertuples()]\n",
    "#             spec_results = [\n",
    "#                 signal.spectrogram(magnifier * arr, fs=2048., nperseg=nperseg, noverlap=noverlap, mode='magnitude') for arr in arrs\n",
    "#             ] # fs, ts, Sxxs\n",
    "#             Sxxs = [res[2] for res in spec_results]\n",
    "#             X = tf.convert_to_tensor(Sxxs)\n",
    "#             X = tf.expand_dims(X, axis=-1)\n",
    "#             y = tf.convert_to_tensor([row[2] for row in curr_df.itertuples()], dtype='float64')\n",
    "#             yield X, y\n",
    "#     return gen"
   ]
  },
  {
   "cell_type": "code",
   "execution_count": 29,
   "id": "8e829642-eb35-467c-ba98-1c6180c6deaa",
   "metadata": {
    "pycharm": {
     "name": "#%%\n"
    }
   },
   "outputs": [],
   "source": [
    "# dataset_train = tf.data.Dataset.from_generator(g2net_data_generator(training_df, batch_size=batch_size), output_signature=(\n",
    "#     tf.TensorSpec(shape=(None, 3, spec_shape[0], spec_shape[1], 1), dtype=tf.float64), \n",
    "#     tf.TensorSpec(shape=(None,), dtype=tf.float64)\n",
    "#     )\n",
    "# )"
   ]
  },
  {
   "cell_type": "code",
   "execution_count": 30,
   "id": "5d52fb11-343b-41d2-86a8-e001db6578ec",
   "metadata": {
    "pycharm": {
     "name": "#%%\n"
    }
   },
   "outputs": [],
   "source": [
    "# dataset_test = tf.data.Dataset.from_generator(g2net_data_generator(test_df, batch_size=batch_size), output_signature=(\n",
    "#     tf.TensorSpec(shape=(None, 3, spec_shape[0], spec_shape[1], 1), dtype=tf.float64), \n",
    "#     tf.TensorSpec(shape=(None,), dtype=tf.float64)\n",
    "#     )\n",
    "# )"
   ]
  },
  {
   "cell_type": "code",
   "execution_count": 31,
   "id": "67c0ff44-e335-4717-bae8-dac8cfb66404",
   "metadata": {
    "pycharm": {
     "name": "#%%\n"
    }
   },
   "outputs": [],
   "source": [
    "# dataset_train = dataset_train.apply(tf.data.experimental.assert_cardinality(np.floor(training_df.shape[0] / batch_size)))\n",
    "# dataset_test = dataset_test.apply(tf.data.experimental.assert_cardinality(np.floor(test_df.shape[0] / batch_size)))"
   ]
  },
  {
   "cell_type": "code",
   "execution_count": 32,
   "id": "4c46e0d6-b921-4f37-877e-3d06a1eb9275",
   "metadata": {
    "pycharm": {
     "name": "#%%\n"
    }
   },
   "outputs": [],
   "source": [
    "# dataset_train = dataset_train.prefetch(1)\n",
    "# dataset_test = dataset_test.prefetch(1)"
   ]
  },
  {
   "cell_type": "markdown",
   "id": "d3d05afe-f5bf-4b50-a6ed-7fb25b193bd5",
   "metadata": {
    "pycharm": {
     "name": "#%% md\n"
    }
   },
   "source": [
    "## Sequences"
   ]
  },
  {
   "cell_type": "code",
   "execution_count": 42,
   "id": "ca005ff2-87ea-4302-ad9f-4a7db62a70b6",
   "metadata": {
    "pycharm": {
     "name": "#%%\n"
    }
   },
   "outputs": [],
   "source": [
    "class G2netSequence(tf.keras.utils.Sequence):\n",
    "    def __init__(self, df, labels=True, batch_size=64, shuffle=True, magnifier=10.**24):\n",
    "        self.batch_size = batch_size\n",
    "        self.df = df\n",
    "        self.labels = labels\n",
    "        self.shuffle = shuffle\n",
    "        self.magnifier = magnifier\n",
    "        self.rng = np.random.default_rng()\n",
    "        self.on_epoch_end()\n",
    "\n",
    "    def __len__(self):\n",
    "        return int(np.floor(self.df.shape[0] / self.batch_size))\n",
    "\n",
    "    def __getitem__(self, idx):\n",
    "        curr_batch_idxs = self.idxs[idx*self.batch_size:(idx+1)*self.batch_size]\n",
    "        curr_df = self.df.iloc[curr_batch_idxs]\n",
    "        arrs = [np.load(row[1]).astype(np.float64) for row in curr_df.itertuples()]\n",
    "        spec_results = [\n",
    "            signal.spectrogram(self.magnifier * arr, fs=2048., nperseg=nperseg, noverlap=noverlap, mode='magnitude') for arr in arrs\n",
    "        ] # fs, ts, Sxxs\n",
    "        Sxxs = [res[2] for res in spec_results]\n",
    "        X = tf.convert_to_tensor(Sxxs)\n",
    "        X = tf.expand_dims(X, axis=-1)\n",
    "        if self.labels:\n",
    "            y = tf.convert_to_tensor([row[2] for row in curr_df.itertuples()], dtype='float64')\n",
    "            return X, y\n",
    "        else:\n",
    "            return X\n",
    "\n",
    "    def on_epoch_end(self):\n",
    "        self.idxs = np.arange(self.df.shape[0])\n",
    "        if self.shuffle: self.rng.shuffle(self.idxs)\n",
    "        "
   ]
  },
  {
   "cell_type": "code",
   "execution_count": 34,
   "id": "f45ab8b6-4c11-497b-87bc-4425c2895383",
   "metadata": {
    "pycharm": {
     "name": "#%%\n"
    }
   },
   "outputs": [],
   "source": [
    "dataset_train = G2netSequence(training_df, batch_size=batch_size)\n",
    "dataset_test = G2netSequence(test_df, batch_size=batch_size)"
   ]
  },
  {
   "cell_type": "code",
   "execution_count": 59,
   "id": "20083e8d-b338-421f-9942-913e8427ce3e",
   "metadata": {
    "pycharm": {
     "name": "#%%\n"
    }
   },
   "outputs": [],
   "source": [
    "dataset_valid = G2netSequence(valid_df, labels=False, shuffle=False, batch_size=100)"
   ]
  },
  {
   "cell_type": "markdown",
   "id": "df1f5bcd-8f15-445d-8ba1-334159cc4271",
   "metadata": {
    "pycharm": {
     "name": "#%% md\n"
    }
   },
   "source": [
    "## One cycle"
   ]
  },
  {
   "cell_type": "code",
   "execution_count": 35,
   "id": "2d3c6f78-0c71-4256-ab0d-0a32a4aa7047",
   "metadata": {
    "pycharm": {
     "name": "#%%\n"
    }
   },
   "outputs": [],
   "source": [
    "class OneCycle(tf.keras.callbacks.Callback):\n",
    "\n",
    "    def __init__(self, min_lr=1e-5, max_lr=1e-2, min_mtm = 0.85, max_mtm=0.95, training_iterations=1000.,\n",
    "                 annealing_stage=0.1, annealing_rate=0.01):\n",
    "\n",
    "        self.min_lr = min_lr\n",
    "        self.max_lr = max_lr\n",
    "        self.min_mtm = min_mtm\n",
    "        self.max_mtm = max_mtm\n",
    "        self.annealing_stage = annealing_stage\n",
    "        self.step_size = training_iterations*(1-self.annealing_stage)/2\n",
    "        self.min_annealing_lr = annealing_rate * min_lr\n",
    "        self.iterations = 0.\n",
    "        self.training_iterations = training_iterations\n",
    "        self.history = {}\n",
    "        \n",
    "    def clr(self):\n",
    "        if self.iterations < 2*self.step_size :\n",
    "            x = np.abs(self.iterations/self.step_size - 1)\n",
    "            return self.min_lr + (self.max_lr-self.min_lr)*(1-x)\n",
    "        else:\n",
    "            x = min(1, float(self.iterations - 2 * self.step_size) / (self.training_iterations - 2 * self.step_size))\n",
    "            return self.min_lr - (self.min_lr - self.min_annealing_lr) * x\n",
    "        \n",
    "    \n",
    "    def cmtm(self):\n",
    "        if self.iterations < 2*self.step_size :   \n",
    "            x = np.abs(self.iterations/self.step_size - 1)\n",
    "        else: \n",
    "            x=1\n",
    "        return self.min_mtm + (self.max_mtm-self.min_mtm)*(x)     \n",
    "        \n",
    "    def on_train_begin(self, logs={}):\n",
    "        logs = logs or {}\n",
    "        tf.keras.backend.set_value(self.model.optimizer.lr, self.min_lr)\n",
    "        tf.keras.backend.set_value(self.model.optimizer.momentum, self.max_mtm)\n",
    "         \n",
    "    def on_batch_end(self, batch, logs=None):\n",
    "        \n",
    "        logs = logs or {}\n",
    "        self.iterations += 1\n",
    "    \n",
    "        self.history.setdefault('lr', []).append(tf.keras.backend.get_value(self.model.optimizer.lr))\n",
    "        self.history.setdefault('momentum', []).append(tf.keras.backend.get_value(self.model.optimizer.momentum))\n",
    "        self.history.setdefault('iterations', []).append(self.iterations)\n",
    "\n",
    "        for k, v in logs.items():\n",
    "            self.history.setdefault(k, []).append(v)\n",
    "        \n",
    "        tf.keras.backend.set_value(self.model.optimizer.lr, self.clr()) \n",
    "        tf.keras.backend.set_value(self.model.optimizer.momentum, self.cmtm())\n",
    "        \n",
    "    def plot_lr(self):\n",
    "        plt.xlabel('Training Iterations')\n",
    "        plt.ylabel('Learning Rate')\n",
    "        plt.title(\"CLR - '1 cycle' Policy\")\n",
    "        plt.plot(self.history['iterations'], self.history['lr'])\n",
    "        \n",
    "    def plot_mtm(self):\n",
    "        plt.xlabel('Training Iterations')\n",
    "        plt.ylabel('Momentum')\n",
    "        plt.title(\"CLR - '1 cycle' Policy\")\n",
    "        plt.plot(self.history['iterations'], self.history['momentum'])"
   ]
  },
  {
   "cell_type": "markdown",
   "id": "0e90d810-b167-4364-b0ef-2a2c5a0f4384",
   "metadata": {
    "pycharm": {
     "name": "#%% md\n"
    }
   },
   "source": [
    "# Creating a model for multivariate time series classification"
   ]
  },
  {
   "cell_type": "code",
   "execution_count": 36,
   "id": "27474ecd-a4d5-469e-9bec-fd9621c9c0a1",
   "metadata": {
    "pycharm": {
     "name": "#%%\n"
    }
   },
   "outputs": [],
   "source": [
    "n_feats = 12\n",
    "\n",
    "model = tf.keras.models.Sequential([\n",
    "    tf.keras.layers.Input(shape=(3, spec_shape[0], spec_shape[1], 1), dtype=('float64')),\n",
    "    tf.keras.layers.Conv3D(n_feats, (3, 5, 5), strides=1, activation='selu'),\n",
    "    #tf.keras.layers.MaxPool3D((1, 2, 2)),\n",
    "    #tf.keras.layers.BatchNormalization(),\n",
    "    tf.keras.layers.Conv3D(n_feats*2, (1, 3, 3), strides=1, activation='selu'),\n",
    "    tf.keras.layers.MaxPool3D((1, 2, 2)),\n",
    "    #tf.keras.layers.BatchNormalization(),\n",
    "    tf.keras.layers.Dropout(0.3),\n",
    "    tf.keras.layers.Conv3D(n_feats*4, (1, 3, 3), strides=2, activation='selu'),\n",
    "    tf.keras.layers.MaxPool3D((1, 2, 2)),\n",
    "    #tf.keras.layers.BatchNormalization(),\n",
    "    tf.keras.layers.Conv3D(n_feats*8, (1, 3, 3), strides=2, activation='selu'),\n",
    "    tf.keras.layers.MaxPool3D((1, 2, 2)),\n",
    "    #tf.keras.layers.BatchNormalization(),\n",
    "    tf.keras.layers.Conv3D(n_feats*16, (1, 3, 3), strides=1, activation='selu'),\n",
    "    tf.keras.layers.MaxPool3D((1, 2, 2)),\n",
    "    tf.keras.layers.Conv3D(n_feats*32, (1, 3, 3), strides=1, activation='selu'),\n",
    "    tf.keras.layers.BatchNormalization(),\n",
    "    #tf.keras.layers.Conv3D(512, (1, 3, 3), strides=1, activation='selu'),\n",
    "    #tf.keras.layers.MaxPool3D((1, 2, 2)),\n",
    "    #tf.keras.layers.GlobalMaxPooling3D(),\n",
    "    tf.keras.layers.Flatten(),\n",
    "    tf.keras.layers.Dropout(0.4),\n",
    "    tf.keras.layers.Dense(96, activation='selu'), \n",
    "    tf.keras.layers.Dense(12, activation='selu'),\n",
    "    tf.keras.layers.Dense(1, activation='sigmoid'),    \n",
    "])"
   ]
  },
  {
   "cell_type": "code",
   "execution_count": 37,
   "id": "78b97b55-73af-4611-9106-f09d44736070",
   "metadata": {
    "pycharm": {
     "name": "#%%\n"
    }
   },
   "outputs": [],
   "source": [
    "# model.compile(optimizer=tf.keras.optimizers.Adam(learning_rate=1e-4), loss='binary_crossentropy', metrics=['accuracy', tf.keras.metrics.AUC()])\n",
    "model.compile(optimizer='rmsprop', loss='binary_crossentropy', metrics=['accuracy', tf.keras.metrics.AUC()])"
   ]
  },
  {
   "cell_type": "code",
   "execution_count": 38,
   "id": "4bd2d0f0-3535-4c56-85fe-e78e6d734eed",
   "metadata": {
    "pycharm": {
     "name": "#%%\n"
    }
   },
   "outputs": [
    {
     "name": "stdout",
     "output_type": "stream",
     "text": [
      "Model: \"sequential\"\n",
      "_________________________________________________________________\n",
      "Layer (type)                 Output Shape              Param #   \n",
      "=================================================================\n",
      "conv3d (Conv3D)              (None, 1, 322, 341, 12)   912       \n",
      "_________________________________________________________________\n",
      "conv3d_1 (Conv3D)            (None, 1, 320, 339, 24)   2616      \n",
      "_________________________________________________________________\n",
      "max_pooling3d (MaxPooling3D) (None, 1, 160, 169, 24)   0         \n",
      "_________________________________________________________________\n",
      "dropout (Dropout)            (None, 1, 160, 169, 24)   0         \n",
      "_________________________________________________________________\n",
      "conv3d_2 (Conv3D)            (None, 1, 79, 84, 48)     10416     \n",
      "_________________________________________________________________\n",
      "max_pooling3d_1 (MaxPooling3 (None, 1, 39, 42, 48)     0         \n",
      "_________________________________________________________________\n",
      "conv3d_3 (Conv3D)            (None, 1, 19, 20, 96)     41568     \n",
      "_________________________________________________________________\n",
      "max_pooling3d_2 (MaxPooling3 (None, 1, 9, 10, 96)      0         \n",
      "_________________________________________________________________\n",
      "conv3d_4 (Conv3D)            (None, 1, 7, 8, 192)      166080    \n",
      "_________________________________________________________________\n",
      "max_pooling3d_3 (MaxPooling3 (None, 1, 3, 4, 192)      0         \n",
      "_________________________________________________________________\n",
      "conv3d_5 (Conv3D)            (None, 1, 1, 2, 384)      663936    \n",
      "_________________________________________________________________\n",
      "batch_normalization (BatchNo (None, 1, 1, 2, 384)      1536      \n",
      "_________________________________________________________________\n",
      "flatten (Flatten)            (None, 768)               0         \n",
      "_________________________________________________________________\n",
      "dropout_1 (Dropout)          (None, 768)               0         \n",
      "_________________________________________________________________\n",
      "dense (Dense)                (None, 96)                73824     \n",
      "_________________________________________________________________\n",
      "dense_1 (Dense)              (None, 12)                1164      \n",
      "_________________________________________________________________\n",
      "dense_2 (Dense)              (None, 1)                 13        \n",
      "=================================================================\n",
      "Total params: 962,065\n",
      "Trainable params: 961,297\n",
      "Non-trainable params: 768\n",
      "_________________________________________________________________\n"
     ]
    }
   ],
   "source": [
    "model.summary()"
   ]
  },
  {
   "cell_type": "code",
   "execution_count": 39,
   "id": "cd47cd41-32f0-47ab-9cfc-6d1d3b7c0b34",
   "metadata": {
    "pycharm": {
     "name": "#%%\n"
    }
   },
   "outputs": [],
   "source": [
    "def scheduler(epoch, lr):\n",
    "    if epoch <= 2:\n",
    "        return 10 ** -4\n",
    "    elif epoch <= 4:\n",
    "        return 10 ** -3\n",
    "    elif epoch <= 6:\n",
    "        return 10 ** -2\n",
    "    elif epoch <= 7:\n",
    "        return 10 ** -3\n",
    "    else:\n",
    "        return lr * tf.math.exp(-0.1)\n",
    "\n",
    "# scheduler_callback = tf.keras.callbacks.LearningRateScheduler(scheduler)\n",
    "expected_epochs = 5\n",
    "scheduler_callback = OneCycle(min_lr=7e-5, max_lr=7e-4, min_mtm = 0.85, max_mtm = 0.95, annealing_stage=0.1, annealing_rate=0.01,\n",
    "          training_iterations=np.ceil(((len(dataset_train)*expected_epochs)/(batch_size))))\n",
    "stopping_callback = tf.keras.callbacks.EarlyStopping(monitor='val_auc', patience=3)"
   ]
  },
  {
   "cell_type": "code",
   "execution_count": 40,
   "id": "3a101341-4b4a-4d1c-b374-1fb82ae20895",
   "metadata": {
    "pycharm": {
     "name": "#%%\n"
    }
   },
   "outputs": [
    {
     "name": "stdout",
     "output_type": "stream",
     "text": [
      "Epoch 1/12\n",
      "14000/14000 [==============================] - 22232s 2s/step - loss: 0.5446 - accuracy: 0.7109 - auc: 0.7796 - val_loss: 0.6338 - val_accuracy: 0.6563 - val_auc: 0.7962\n",
      "Epoch 2/12\n",
      "14000/14000 [==============================] - 22282s 2s/step - loss: 0.5214 - accuracy: 0.7296 - auc: 0.7984 - val_loss: 0.6561 - val_accuracy: 0.6499 - val_auc: 0.7999\n",
      "Epoch 3/12\n",
      "14000/14000 [==============================] - 22287s 2s/step - loss: 0.5202 - accuracy: 0.7305 - auc: 0.7994 - val_loss: 0.6495 - val_accuracy: 0.6535 - val_auc: 0.8020\n",
      "Epoch 4/12\n",
      "14000/14000 [==============================] - 22239s 2s/step - loss: 0.5180 - accuracy: 0.7322 - auc: 0.8011 - val_loss: 0.6557 - val_accuracy: 0.6548 - val_auc: 0.8039\n"
     ]
    }
   ],
   "source": [
    "history = model.fit(\n",
    "    dataset_train,\n",
    "    epochs=12,\n",
    "    validation_data=dataset_test,\n",
    "    callbacks=[stopping_callback, scheduler_callback],\n",
    "    #workers=4,\n",
    "    use_multiprocessing=False\n",
    ")"
   ]
  },
  {
   "cell_type": "code",
   "execution_count": 41,
   "id": "048213fb-d953-4220-901a-9243272a3829",
   "metadata": {
    "pycharm": {
     "name": "#%%\n"
    }
   },
   "outputs": [
    {
     "name": "stdout",
     "output_type": "stream",
     "text": [
      "INFO:tensorflow:Assets written to: /home/carlos/Documentos/Kaggle/g2net/assets\n"
     ]
    }
   ],
   "source": [
    "model.save(path)"
   ]
  },
  {
   "cell_type": "code",
   "execution_count": 60,
   "id": "cc2da143-6df8-41dd-bc8b-d9cda6c87c26",
   "metadata": {
    "pycharm": {
     "name": "#%%\n"
    }
   },
   "outputs": [],
   "source": [
    "prediction = model.predict(dataset_valid)"
   ]
  },
  {
   "cell_type": "code",
   "execution_count": 61,
   "id": "d877677c-99e6-4252-9f86-b2c3e91a5f0d",
   "metadata": {
    "pycharm": {
     "name": "#%%\n"
    }
   },
   "outputs": [
    {
     "data": {
      "text/plain": [
       "(226000, 1)"
      ]
     },
     "execution_count": 61,
     "metadata": {},
     "output_type": "execute_result"
    }
   ],
   "source": [
    "prediction.shape"
   ]
  },
  {
   "cell_type": "code",
   "execution_count": 70,
   "id": "fa85b211-441d-44ad-b5e0-3f52e97d4eff",
   "metadata": {
    "pycharm": {
     "name": "#%%\n"
    }
   },
   "outputs": [
    {
     "data": {
      "text/plain": [
       "<AxesSubplot:>"
      ]
     },
     "execution_count": 70,
     "metadata": {},
     "output_type": "execute_result"
    },
    {
     "data": {
      "image/png": "[encoded data removed]",
      "text/plain": [
       "<Figure size 432x288 with 1 Axes>"
      ]
     },
     "metadata": {
      "needs_background": "light"
     },
     "output_type": "display_data"
    }
   ],
   "source": [
    "pd.Series(prediction[:, 0]).hist()"
   ]
  },
  {
   "cell_type": "code",
   "execution_count": 66,
   "id": "54eb248a-6040-4cb4-bcec-6fa2e654e31d",
   "metadata": {
    "pycharm": {
     "name": "#%%\n"
    }
   },
   "outputs": [],
   "source": [
    "submit_df = valid_df.copy()[['id']]"
   ]
  },
  {
   "cell_type": "code",
   "execution_count": 67,
   "id": "6da6e2ec-3a66-41ba-ba9c-0c50cc41588a",
   "metadata": {
    "pycharm": {
     "name": "#%%\n"
    }
   },
   "outputs": [],
   "source": [
    "submit_df['target'] = prediction[:, 0]"
   ]
  },
  {
   "cell_type": "code",
   "execution_count": 68,
   "id": "ceaa8587-d400-4f39-b0ff-61d52e0dd9a6",
   "metadata": {
    "pycharm": {
     "name": "#%%\n"
    }
   },
   "outputs": [
    {
     "data": {
      "text/html": [
       "<div>\n",
       "<style scoped>\n",
       "    .dataframe tbody tr th:only-of-type {\n",
       "        vertical-align: middle;\n",
       "    }\n",
       "\n",
       "    .dataframe tbody tr th {\n",
       "        vertical-align: top;\n",
       "    }\n",
       "\n",
       "    .dataframe thead th {\n",
       "        text-align: right;\n",
       "    }\n",
       "</style>\n",
       "<table border=\"1\" class=\"dataframe\">\n",
       "  <thead>\n",
       "    <tr style=\"text-align: right;\">\n",
       "      <th></th>\n",
       "      <th>id</th>\n",
       "      <th>target</th>\n",
       "    </tr>\n",
       "  </thead>\n",
       "  <tbody>\n",
       "    <tr>\n",
       "      <th>0</th>\n",
       "      <td>555fae21f9</td>\n",
       "      <td>0.249721</td>\n",
       "    </tr>\n",
       "    <tr>\n",
       "      <th>1</th>\n",
       "      <td>5550b3009c</td>\n",
       "      <td>0.221492</td>\n",
       "    </tr>\n",
       "    <tr>\n",
       "      <th>2</th>\n",
       "      <td>55554b8e3c</td>\n",
       "      <td>0.101208</td>\n",
       "    </tr>\n",
       "    <tr>\n",
       "      <th>3</th>\n",
       "      <td>55535b070b</td>\n",
       "      <td>0.265458</td>\n",
       "    </tr>\n",
       "    <tr>\n",
       "      <th>4</th>\n",
       "      <td>555d90926b</td>\n",
       "      <td>0.992604</td>\n",
       "    </tr>\n",
       "  </tbody>\n",
       "</table>\n",
       "</div>"
      ],
      "text/plain": [
       "           id    target\n",
       "0  555fae21f9  0.249721\n",
       "1  5550b3009c  0.221492\n",
       "2  55554b8e3c  0.101208\n",
       "3  55535b070b  0.265458\n",
       "4  555d90926b  0.992604"
      ]
     },
     "execution_count": 68,
     "metadata": {},
     "output_type": "execute_result"
    }
   ],
   "source": [
    "submit_df.head()"
   ]
  },
  {
   "cell_type": "code",
   "execution_count": 72,
   "id": "2eebb5b8-62f8-4484-a02b-d81ba3a94bbf",
   "metadata": {
    "pycharm": {
     "name": "#%%\n"
    }
   },
   "outputs": [],
   "source": [
    "submit_df.to_csv(path / 'g2net_submittal.csv', index=False)"
   ]
  }
 ],
 "metadata": {
  "kernelspec": {
   "display_name": "Python 3",
   "language": "python",
   "name": "python3"
  },
  "language_info": {
   "codemirror_mode": {
    "name": "ipython",
    "version": 3
   },
   "file_extension": ".py",
   "mimetype": "text/x-python",
   "name": "python",
   "nbconvert_exporter": "python",
   "pygments_lexer": "ipython3",
   "version": "3.8.5"
  }
 },
 "nbformat": 4,
 "nbformat_minor": 5
}